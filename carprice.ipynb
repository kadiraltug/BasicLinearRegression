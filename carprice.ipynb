{
 "cells": [
  {
   "cell_type": "code",
   "execution_count": 1,
   "id": "0cb4ba1f",
   "metadata": {},
   "outputs": [],
   "source": [
    "import pandas as pd\n",
    "import numpy as np"
   ]
  },
  {
   "cell_type": "code",
   "execution_count": 2,
   "id": "72802725",
   "metadata": {},
   "outputs": [],
   "source": [
    "df=pd.read_csv(\"data.csv\")"
   ]
  },
  {
   "cell_type": "code",
   "execution_count": 3,
   "id": "d67f04bf",
   "metadata": {},
   "outputs": [],
   "source": [
    "import matplotlib.pyplot as plt\n",
    "import seaborn as sns\n",
    "%matplotlib inline\n",
    "df.columns=df.columns.str.lower().str.replace(\" \",\"_\")\n",
    "strings=list(df.dtypes[df.dtypes==\"object\"].index)\n",
    "for col in strings:\n",
    "    df[col]=df[col].str.lower().str.replace(\" \",\"_\")\n",
    "n=len(df)\n",
    "n_val=int(n*0.2)\n",
    "n_test=int(n*0.2)\n",
    "n_train=n-n_test-n_val\n",
    "ids=np.arange(n)\n",
    "np.random.shuffle(ids)\n",
    "df_train=df.iloc[ids[:n_train]].reset_index(drop=True)\n",
    "df_val=df.iloc[ids[n_train:n_train+n_val]].reset_index(drop=True)\n",
    "df_test=df.iloc[ids[n_train+n_val:]].reset_index(drop=True)"
   ]
  },
  {
   "cell_type": "code",
   "execution_count": 4,
   "id": "952926cb",
   "metadata": {},
   "outputs": [],
   "source": [
    "y_train=np.log1p(df_train.msrp.values)"
   ]
  },
  {
   "cell_type": "code",
   "execution_count": 5,
   "id": "a13cda0a",
   "metadata": {},
   "outputs": [],
   "source": [
    "y_test=np.log1p(df_test.msrp.values)"
   ]
  },
  {
   "cell_type": "code",
   "execution_count": 6,
   "id": "a8753b22",
   "metadata": {},
   "outputs": [],
   "source": [
    "y_val=np.log1p(df_val.msrp.values)"
   ]
  },
  {
   "cell_type": "code",
   "execution_count": 7,
   "id": "d15d9c32",
   "metadata": {},
   "outputs": [],
   "source": [
    "del df_train[\"msrp\"]\n",
    "del df_val[\"msrp\"]\n",
    "del df_test[\"msrp\"]"
   ]
  },
  {
   "cell_type": "code",
   "execution_count": 8,
   "id": "bf3c942c",
   "metadata": {},
   "outputs": [],
   "source": [
    "w0=7.17\n",
    "w=[0.01,0.04,0.002]"
   ]
  },
  {
   "cell_type": "code",
   "execution_count": 9,
   "id": "299174fd",
   "metadata": {},
   "outputs": [],
   "source": [
    "\n",
    "w0=7.17\n",
    "w=[0.01,0.04,0.002]\n"
   ]
  },
  {
   "cell_type": "code",
   "execution_count": 10,
   "id": "5c9478cc",
   "metadata": {},
   "outputs": [],
   "source": [
    "base=[\"engine_hp\",\"engine_cylinders\",\"highway_mpg\",\"city_mpg\",\"popularity\"]\n",
    "c_train=df_train[base].values"
   ]
  },
  {
   "cell_type": "code",
   "execution_count": 11,
   "id": "d1982765",
   "metadata": {},
   "outputs": [],
   "source": [
    "x_train=df_train[base].fillna(0).values"
   ]
  },
  {
   "cell_type": "code",
   "execution_count": 12,
   "id": "3640ccde",
   "metadata": {},
   "outputs": [],
   "source": [
    "def rmse(y,y_pred):\n",
    "    error=y-y_pred\n",
    "    se=error**2\n",
    "    mse=se.mean()\n",
    "    return np.sqrt(mse)"
   ]
  },
  {
   "cell_type": "code",
   "execution_count": 13,
   "id": "bda37fdd",
   "metadata": {},
   "outputs": [],
   "source": [
    "categoricals=list(df.dtypes[(df.dtypes==object)].index)"
   ]
  },
  {
   "cell_type": "code",
   "execution_count": 14,
   "id": "d186afae",
   "metadata": {},
   "outputs": [],
   "source": [
    "categories={}\n",
    "for c in categoricals:\n",
    "    categories[c]=list(df[c].value_counts().head().index)"
   ]
  },
  {
   "cell_type": "code",
   "execution_count": 15,
   "id": "21a0674d",
   "metadata": {},
   "outputs": [],
   "source": [
    "def prepare_X(df):\n",
    "    df=df.copy()\n",
    "    features=base+[\"age\"]\n",
    "    df[\"age\"]=2017-df.year\n",
    "    features.append(\"age\")\n",
    "    \n",
    "    for v in [2,3,4]:\n",
    "        df[\"num_doors_%s\" % v]=(df.number_of_doors==v).astype(\"int\")\n",
    "        features.append(\"num_doors_%s\" % v)\n",
    "    for c, values in categories.items():\n",
    "        for v in values:\n",
    "            df[\"%s_%s\" % (c,v)]=(df[c]==v).astype(\"int\")\n",
    "            features.append(\"%s_%s\" % (c,v))\n",
    "    df_num=df[features]\n",
    "    df_num=df_num.fillna(0)\n",
    "    X=df_num.values\n",
    "    return X"
   ]
  },
  {
   "cell_type": "code",
   "execution_count": 16,
   "id": "2c1abdaf",
   "metadata": {},
   "outputs": [],
   "source": [
    "def train_linear_regression_reg(X,y,r=0.001):\n",
    "    ones=np.ones(X.shape[0])\n",
    "    X=np.column_stack([ones,X])\n",
    "    XTX=X.T.dot(X)\n",
    "    XTX+=r*np.eye(XTX.shape[0])\n",
    "    XTX_inv=np.linalg.inv(XTX)\n",
    "    w_full=XTX_inv.dot(X.T).dot(y)\n",
    "    return w_full[0],w_full[1:]"
   ]
  },
  {
   "cell_type": "code",
   "execution_count": 17,
   "id": "b7f884b7",
   "metadata": {},
   "outputs": [
    {
     "data": {
      "text/plain": [
       "0.44373588255026997"
      ]
     },
     "execution_count": 17,
     "metadata": {},
     "output_type": "execute_result"
    }
   ],
   "source": [
    "r=0.001\n",
    "X_train=prepare_X(df_train)\n",
    "w0,w=train_linear_regression_reg(X_train,y_train,r)\n",
    "X_val=prepare_X(df_val)\n",
    "y_pred=w0+X_val.dot(w)\n",
    "rmse(y_val,y_pred)"
   ]
  },
  {
   "cell_type": "code",
   "execution_count": 41,
   "id": "7057c5c7",
   "metadata": {},
   "outputs": [],
   "source": [
    "df_full_train=pd.concat([df_train,df_val]).reset_index(drop=True)"
   ]
  },
  {
   "cell_type": "code",
   "execution_count": 42,
   "id": "c88922e9",
   "metadata": {},
   "outputs": [],
   "source": [
    "X_full_train=prepare_X(df_full_train)"
   ]
  },
  {
   "cell_type": "code",
   "execution_count": 43,
   "id": "86fc74f3",
   "metadata": {},
   "outputs": [],
   "source": [
    "y_train_full=np.concatenate([y_train,y_val])"
   ]
  },
  {
   "cell_type": "code",
   "execution_count": 44,
   "id": "8a00f83d",
   "metadata": {},
   "outputs": [],
   "source": [
    "w0,w=train_linear_regression_reg(X_full_train,y_train_full,r=0.001)"
   ]
  },
  {
   "cell_type": "code",
   "execution_count": 45,
   "id": "f5a36769",
   "metadata": {},
   "outputs": [
    {
     "data": {
      "text/plain": [
       "0.45499816834199264"
      ]
     },
     "execution_count": 45,
     "metadata": {},
     "output_type": "execute_result"
    }
   ],
   "source": [
    "X_test=prepare_X(df_test)\n",
    "y_pred=w0+X_test.dot(w)\n",
    "rmse(y_test,y_pred)"
   ]
  },
  {
   "cell_type": "code",
   "execution_count": 49,
   "id": "73a3b6d4",
   "metadata": {},
   "outputs": [],
   "source": [
    "def predict(params):\n",
    "    y_pred=[]\n",
    "    for a in range(len(params)):\n",
    "        x=pd.DataFrame([params.iloc[a].to_dict()])\n",
    "        X=prepare_X(x)\n",
    "        y_pred.append(np.expm1((w0+X.dot(w))[0]))\n",
    "        \n",
    "    return y_pred"
   ]
  },
  {
   "cell_type": "code",
   "execution_count": null,
   "id": "1b3d5e47",
   "metadata": {},
   "outputs": [],
   "source": []
  }
 ],
 "metadata": {
  "kernelspec": {
   "display_name": "Python 3 (ipykernel)",
   "language": "python",
   "name": "python3"
  },
  "language_info": {
   "codemirror_mode": {
    "name": "ipython",
    "version": 3
   },
   "file_extension": ".py",
   "mimetype": "text/x-python",
   "name": "python",
   "nbconvert_exporter": "python",
   "pygments_lexer": "ipython3",
   "version": "3.9.7"
  }
 },
 "nbformat": 4,
 "nbformat_minor": 5
}
